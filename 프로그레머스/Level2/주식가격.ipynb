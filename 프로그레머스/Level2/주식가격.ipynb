{
 "cells": [
  {
   "cell_type": "markdown",
   "metadata": {},
   "source": [
    "# 주식 가격 문제 \n",
    "\n",
    "### 문제 \n",
    "\n",
    "초 단위로 기록된 주식가격이 담긴 배열 prices가 매개변수로 주어질 때, 가격이 떨어지지 않은 기간은 몇 초인지를 return 하도록 solution 함수를 완성하세요.\n",
    "\n",
    "- prices의 각 가격은 1 이상 10,000 이하인 자연수입니다.\n",
    "- pices의 길이는 2 이상 100,000 이하입니다.\n",
    "\n",
    "prices\n",
    "\n",
    "[1, 2, 3, 2, 3]\n",
    "\n",
    "return\n",
    "\n",
    "[4,3,1,1,0]\n"
   ]
  },
  {
   "cell_type": "code",
   "execution_count": null,
   "metadata": {},
   "outputs": [],
   "source": [
    "prices = [1 , 2 , 3 , 2 , 3]\n",
    "def solution(prices):\n",
    "    answer = [0] * len(prices)\n",
    "\n",
    "    for i in range(len(prices)-1):\n",
    "        for j in range(i, len(prices)-1):\n",
    "            if prices[i] >prices[j]:\n",
    "                break\n",
    "            else:\n",
    "                answer[i] +=1\n",
    "    return answer"
   ]
  },
  {
   "cell_type": "code",
   "execution_count": 7,
   "metadata": {},
   "outputs": [
    {
     "name": "stdout",
     "output_type": "stream",
     "text": [
      "[4, 3, 1, 1, 0]\n"
     ]
    }
   ],
   "source": [
    "print(solution(prices))"
   ]
  },
  {
   "cell_type": "code",
   "execution_count": 8,
   "metadata": {},
   "outputs": [],
   "source": [
    "prices = [1 , 2 , 3 , 2 , 3]\n",
    "\n",
    "def solution(prices):\n",
    "    answer = []\n",
    "\n",
    "    for price1 in range(len(prices)):\n",
    "        increase = 0\n",
    "        for price2 in range(price1, len(prices)-1):\n",
    "            if prices[price1] > prices[price2]:\n",
    "                break\n",
    "            else:\n",
    "                increase +=1\n",
    "                \n",
    "        answer.append(increase)\n",
    "        \n",
    "    return answer"
   ]
  },
  {
   "cell_type": "code",
   "execution_count": 9,
   "metadata": {},
   "outputs": [
    {
     "name": "stdout",
     "output_type": "stream",
     "text": [
      "[4, 3, 1, 1, 0]\n"
     ]
    }
   ],
   "source": [
    "print(solution(prices))"
   ]
  },
  {
   "cell_type": "code",
   "execution_count": 11,
   "metadata": {},
   "outputs": [],
   "source": [
    "prices = [1, 2, 3, 2, 3]\n",
    "\n",
    "def solution(prices):\n",
    "\n",
    "    answer   = []\n",
    "\n",
    "    for price1 in range(len(prices)-1):\n",
    "        increase = 0\n",
    "\n",
    "        for price2 in range(price1 , len(prices)):\n",
    "            if prices[price1] <= prices[price2]:\n",
    "                increase += 1\n",
    "\n",
    "        answer.append(increase)\n",
    "\n",
    "    return answer\n"
   ]
  },
  {
   "cell_type": "code",
   "execution_count": 12,
   "metadata": {},
   "outputs": [
    {
     "name": "stdout",
     "output_type": "stream",
     "text": [
      "[5, 4, 2, 2]\n"
     ]
    }
   ],
   "source": [
    "print(solution(prices))"
   ]
  },
  {
   "cell_type": "code",
   "execution_count": null,
   "metadata": {},
   "outputs": [],
   "source": []
  },
  {
   "cell_type": "code",
   "execution_count": null,
   "metadata": {},
   "outputs": [],
   "source": []
  }
 ],
 "metadata": {
  "kernelspec": {
   "display_name": "Python 3",
   "language": "python",
   "name": "python3"
  },
  "language_info": {
   "codemirror_mode": {
    "name": "ipython",
    "version": 3
   },
   "file_extension": ".py",
   "mimetype": "text/x-python",
   "name": "python",
   "nbconvert_exporter": "python",
   "pygments_lexer": "ipython3",
   "version": "3.8.5"
  }
 },
 "nbformat": 4,
 "nbformat_minor": 4
}
